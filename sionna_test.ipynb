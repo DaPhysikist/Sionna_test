{
 "cells": [
  {
   "cell_type": "code",
   "execution_count": null,
   "id": "3506d138",
   "metadata": {},
   "outputs": [],
   "source": [
    "import sionna.rt\n",
    "import matplotlib.pyplot as plt\n",
    "import numpy as np\n",
    "\n",
    "no_preview = False # Toggle to False to use the preview widget\n",
    "\n",
    "from sionna.rt import load_scene, PlanarArray, Transmitter, Receiver, Camera,\\\n",
    "                      PathSolver, RadioMapSolver, subcarrier_frequencies"
   ]
  },
  {
   "cell_type": "code",
   "execution_count": null,
   "id": "7e3bbbf1",
   "metadata": {},
   "outputs": [],
   "source": [
    "scene = load_scene(sionna.rt.scene.munich) # Try also sionna.rt.scene.etoile\n",
    "\n",
    "if not no_preview:\n",
    "    scene.render_to_file(camera=\"preview\",\n",
    "                         filename=\"scene.png\",\n",
    "                         resolution=[650,500]);"
   ]
  }
 ],
 "metadata": {
  "kernelspec": {
   "display_name": ".venv",
   "language": "python",
   "name": "python3"
  },
  "language_info": {
   "codemirror_mode": {
    "name": "ipython",
    "version": 3
   },
   "file_extension": ".py",
   "mimetype": "text/x-python",
   "name": "python",
   "nbconvert_exporter": "python",
   "pygments_lexer": "ipython3",
   "version": "3.12.12"
  }
 },
 "nbformat": 4,
 "nbformat_minor": 5
}
